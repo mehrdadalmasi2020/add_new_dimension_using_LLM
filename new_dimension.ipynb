{
 "cells": [
  {
   "cell_type": "code",
   "execution_count": 9,
   "id": "308abf91",
   "metadata": {},
   "outputs": [],
   "source": [
    "Text='''\n",
    "1. INTRODUCTION\n",
    "This site is owned and operated by Peugeot Motor Company PLC (referred to as \"Peugeot/we/our/us\"), a public limited company registered in England under company registration number 148545, the registered office address of which is:\n",
    "\n",
    "Pinley House\n",
    "2 Sunbeam Way\n",
    "Coventry\n",
    "West Midlands\n",
    "CV3 1ND\n",
    " \n",
    "\n",
    "Peugeot Motor Company PLC is authorised and regulated by the Financial Conduct Authority.\n",
    "\n",
    "As a user of our website (referred to as \"you/your\") you acknowledge that such use is subject to our terms and conditions set out below.\n",
    "\n",
    "2. INTELLECTUAL PROPERTY\n",
    "All intellectual property rights in connection with all the information and images on the website are the property of Peugeot Motor Company PLC. No information or images are to be used or duplicated without our prior written permission.\n",
    "3. ACCESSIBILITY\n",
    "All intellectual property rights in connection with all the information and images on the website are the property of Peugeot Motor Company PLC. No information or images are to be used or duplicated without our prior written permission.\n",
    "4. PRICING AND GOVERNMENT VEHICLE EXCISE DUTY INFORMATION\n",
    "The 'Manufacturer's Recommended Retail Price/On the Road price/OTR' featured on this website includes the following:\n",
    "\n",
    "1)    Delivery to dealer and number plates:\n",
    "\n",
    "Cars - £550.83 (+ VAT £110.17)\n",
    "\n",
    "2)    Government Vehicle Excise Duty Bands (new first year rates effective from April 2014):\n",
    "\n",
    "Band A (Up to 100 g/km) - £0\n",
    "Band B (101-110) - £0\n",
    "Band C (111-120) - £0\n",
    "Band D (121-130) - £0\n",
    "Band E (131-140) - £130\n",
    "Band F (141-150) - £145\n",
    "Band G (151-165) - £180\n",
    "Band H (166-175) - £290\n",
    "Band I (176-185) - £345\n",
    "Band J (186-200) - £485\n",
    "Band K (201-225) - £635\n",
    "Band L (226-255) - £860\n",
    "Band M (Over 255) - £1,090\n",
    "\n",
    "3)    First Registration Fee - £55.00\n",
    "\n",
    "All information and prices correct at time of publication, but are subject to change at any time without prior notice (which may occur as a result of matters including, but not limited to, any changes in legislation and/or any changes by the government).  Please see our Prices and Specs brochures or contact your local Peugeot dealer  for the most up-to-date prices and specification details for all models.\n",
    "5. MODEL INFORMATION\n",
    "The models shown in this website are for guidance only. Some features appear on Special Edition models only; others are optional at extra cost. For detailed specification of all vehicles in the Peugeot range, accessories, after sales information, prices and finance plans, please consult your local authorised Peugeot dealer.\n",
    "\n",
    "It is our policy to continually improve our vehicles in every way and we reserve the right to modify our vehicles' specifications (including colour), equipment, accessories and characteristics or to discontinue any model, without notice, at any time. Every endeavour has been made to ensure that the information, details and descriptions set out in this website are correct. However, we are unable to guarantee that no changes have recently taken place to the specifications (including colour), equipment, accessories and characteristics of, or relating to, any Peugeot vehicle. Although every effort is made to bring this website up to date, from time to time, in order to avoid any misunderstandings, you are advised to check with your Peugeot dealer the specifications (including colour), equipment and accessories relating to any Peugeot vehicle, prior to ordering.\n",
    "6. OFFICIAL GOVERNMENT FUEL CONSUMPTION FIGURES\n",
    "Fuel consumption figures (Urban Drive Cycle MPG, Extra Urban Drive Cycle MPG, Combined Drive Cycle MPG and CO2 Emissions g/km) quoted on our website are achieved under official EU test conditions and are intended as a guide for comparative purposes only. Figures may not be reflected in actual on-the-road driving conditions.\n",
    "\n",
    "'''\n",
    "\n",
    "Text=Text.replace(\"\\n\",\" \")"
   ]
  },
  {
   "cell_type": "code",
   "execution_count": 2,
   "id": "cab894b0",
   "metadata": {},
   "outputs": [
    {
     "name": "stdout",
     "output_type": "stream",
     "text": [
      "start_model\n"
     ]
    },
    {
     "data": {
      "application/vnd.jupyter.widget-view+json": {
       "model_id": "c077418c171f448eb858d0ff4ae4d828",
       "version_major": 2,
       "version_minor": 0
      },
      "text/plain": [
       "Loading checkpoint shards:   0%|          | 0/2 [00:00<?, ?it/s]"
      ]
     },
     "metadata": {},
     "output_type": "display_data"
    },
    {
     "name": "stderr",
     "output_type": "stream",
     "text": [
      "Special tokens have been added in the vocabulary, make sure the associated word embeddings are fine-tuned or trained.\n",
      "Special tokens have been added in the vocabulary, make sure the associated word embeddings are fine-tuned or trained.\n"
     ]
    }
   ],
   "source": [
    "import torch\n",
    "from transformers import AutoModelForCausalLM, AutoTokenizer, GenerationConfig\n",
    "from semantic_text_splitter import HuggingFaceTextSplitter\n",
    "from tokenizers import Tokenizer\n",
    "import os\n",
    "import gc\n",
    "\n",
    "os.environ[\"CUDA_DEVICE_ORDER\"]=\"PCI_BUS_ID\" \n",
    "os.environ[\"CUDA_VISIBLE_DEVICES\"]=\"0\"\n",
    "from langchain.text_splitter import CharacterTextSplitter\n",
    "\n",
    "device = \"cuda\" # use cpu if needed\n",
    "print(\"start_model\")\n",
    "model = AutoModelForCausalLM.from_pretrained(\"Open-Orca/Mistral-7B-OpenOrca\").to(device)\n",
    "tokenizer = AutoTokenizer.from_pretrained(\"Open-Orca/Mistral-7B-OpenOrca\")\n"
   ]
  },
  {
   "cell_type": "code",
   "execution_count": 10,
   "id": "01185ab3",
   "metadata": {},
   "outputs": [
    {
     "name": "stderr",
     "output_type": "stream",
     "text": [
      "Setting `pad_token_id` to `eos_token_id`:32000 for open-end generation.\n"
     ]
    },
    {
     "name": "stdout",
     "output_type": "stream",
     "text": [
      "Pinley House 2 Sunbeam Way Coventry West Midlands CV3 1ND\n"
     ]
    }
   ],
   "source": [
    "def find_dimension(inputText):\n",
    "    prompt = \"I give you a text. You must find the address (if there is any. You must only write the address like <ADDR: address>. The text  is as follows: \\n\\n\"+inputText+\" \\n &&&&&&&&&&&&&&&&&&& \\n\"\n",
    "    prompt=prompt.replace(\"  \",\" \")\n",
    "    prompt=prompt.lstrip().rstrip().strip()\n",
    "    inputs = tokenizer(\n",
    "        prompt,\n",
    "        return_tensors=\"pt\").to(device)\n",
    "\n",
    "    outputs = model.generate(\n",
    "        **inputs, max_new_tokens=8000, use_cache=True, do_sample=True,\n",
    "        temperature=0.1, top_p=0.95)\n",
    "\n",
    "    bbb=tokenizer.batch_decode(outputs)[0].replace(inputText,\"\").lstrip().rstrip().strip().split(\"&&&&&&&&&&&&&&&&&&&\")[-1]\n",
    "    bbb=bbb.rstrip().lstrip().strip().split(\": \")[-1].replace(\"<|im_end|>\",\"\").replace(\">\",\"\").replace(\"<\",\"\").rstrip().lstrip().strip()\n",
    "    return bbb \n",
    "\n",
    "print(find_dimension(Text))\n"
   ]
  },
  {
   "cell_type": "code",
   "execution_count": null,
   "id": "a1c4593a",
   "metadata": {},
   "outputs": [],
   "source": []
  }
 ],
 "metadata": {
  "kernelspec": {
   "display_name": "Python 3 (ipykernel)",
   "language": "python",
   "name": "python3"
  },
  "language_info": {
   "codemirror_mode": {
    "name": "ipython",
    "version": 3
   },
   "file_extension": ".py",
   "mimetype": "text/x-python",
   "name": "python",
   "nbconvert_exporter": "python",
   "pygments_lexer": "ipython3",
   "version": "3.11.5"
  }
 },
 "nbformat": 4,
 "nbformat_minor": 5
}
